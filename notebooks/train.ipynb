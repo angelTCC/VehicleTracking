{
 "cells": [
  {
   "cell_type": "code",
   "execution_count": null,
   "metadata": {},
   "outputs": [],
   "source": [
    "from ultralytics import YOLO"
   ]
  },
  {
   "cell_type": "code",
   "execution_count": null,
   "metadata": {},
   "outputs": [],
   "source": [
    "model = YOLO('../models/yolo11n.pt')"
   ]
  },
  {
   "cell_type": "code",
   "execution_count": null,
   "metadata": {},
   "outputs": [],
   "source": [
    "with open('yolo11n.txt', 'w') as f:\n",
    "    f.write(str(model.model))"
   ]
  },
  {
   "cell_type": "code",
   "execution_count": null,
   "metadata": {},
   "outputs": [],
   "source": [
    "import torch\n",
    "\n",
    "print(\"CUDA disponible:\", torch.cuda.is_available())\n",
    "print(\"GPU:\", torch.cuda.get_device_name(0) if torch.cuda.is_available() else \"No hay GPU\")\n"
   ]
  },
  {
   "cell_type": "code",
   "execution_count": null,
   "metadata": {},
   "outputs": [],
   "source": [
    "!nvidia-smi"
   ]
  },
  {
   "cell_type": "code",
   "execution_count": null,
   "metadata": {},
   "outputs": [],
   "source": []
  },
  {
   "cell_type": "code",
   "execution_count": null,
   "metadata": {},
   "outputs": [],
   "source": [
    "#yolov11n run 7\n",
    "from ultralytics import YOLO\n",
    "\n",
    "# Load a model\n",
    "model = YOLO(\"../models/yolo11n.pt\")\n",
    "results = model.train(data=\"data.yaml\", \n",
    "                      epochs=100,\n",
    "                      batch=8,\n",
    "                      freeze=5,\n",
    "                      lr0=0.01,\n",
    "                      lrf=0.005, ##################3\n",
    "                      verbose=True,\n",
    "                      save_period=10,\n",
    "                      save=True,\n",
    "                      #pretrained='./runs/detect/yolo11n_models3/weights/best.pt',\n",
    "                      name='yolo11n_runs',\n",
    "                      plots=True,\n",
    "                      device=0,\n",
    "                      cache=False\n",
    "                      )"
   ]
  },
  {
   "cell_type": "code",
   "execution_count": null,
   "metadata": {},
   "outputs": [],
   "source": [
    "#yolov11n run 12\n",
    "from ultralytics import YOLO\n",
    "\n",
    "# Load a model\n",
    "model = YOLO(\"../models/yolo11n.pt\")\n",
    "\n",
    "results = model.train(data=\"data.yaml\", \n",
    "                      epochs=200,\n",
    "                      batch=16,\n",
    "                      freeze=20,\n",
    "                      lr0=0.01,\n",
    "                      lrf=0.005, ##################3\n",
    "                      verbose=True,\n",
    "                      save_period=10,\n",
    "                      save=True,\n",
    "                      #pretrained='./runs/detect/yolo11n_models3/weights/best.pt',\n",
    "                      name='yolo11n_runs',\n",
    "                      plots=True,\n",
    "                      device=0,\n",
    "                      cache=False\n",
    "                      )"
   ]
  },
  {
   "cell_type": "code",
   "execution_count": null,
   "metadata": {},
   "outputs": [],
   "source": [
    "#yolov11m runs 13\n",
    "from ultralytics import YOLO\n",
    "\n",
    "# Load a model\n",
    "model = YOLO(\"../models/yolo11m.pt\")\n",
    "\n",
    "results = model.train(data=\"data.yaml\", \n",
    "                      epochs=300,\n",
    "                      batch=16,\n",
    "                      freeze=20,\n",
    "                      lr0=0.01,\n",
    "                      lrf=0.005, ##################3\n",
    "                      verbose=True,\n",
    "                      save_period=10,\n",
    "                      save=True,\n",
    "                      #pretrained='./runs/detect/yolo11n_models3/weights/best.pt',\n",
    "                      name='yolo11n_runs',\n",
    "                      plots=True,\n",
    "                      device=0,\n",
    "                      cache=False\n",
    "                      )"
   ]
  },
  {
   "cell_type": "code",
   "execution_count": null,
   "metadata": {},
   "outputs": [],
   "source": [
    "#yolov8m runs 4\n",
    "from ultralytics import YOLO\n",
    "\n",
    "# Load a model\n",
    "model = YOLO(\"../models/yolov8m.pt\")\n",
    "\n",
    "results = model.train(data=\"data.yaml\", \n",
    "                      epochs=300,\n",
    "                      batch=16,\n",
    "                      freeze=20,\n",
    "                      lr0=0.01,\n",
    "                      lrf=0.005, ##################3\n",
    "                      verbose=True,\n",
    "                      save_period=10,\n",
    "                      save=True,\n",
    "                      #pretrained='./runs/detect/yolo11n_models3/weights/best.pt',\n",
    "                      name='yolov8_runs',\n",
    "                      plots=True,\n",
    "                      device=0,\n",
    "                      cache=False\n",
    "                      )"
   ]
  },
  {
   "cell_type": "code",
   "execution_count": null,
   "metadata": {},
   "outputs": [],
   "source": [
    "#yolov11n run  new data set\n",
    "from ultralytics import YOLO\n",
    "\n",
    "# Load a model\n",
    "model = YOLO(\"../models/yolo11n.pt\")\n",
    "results = model.train(data=\"data.yaml\", \n",
    "                      epochs=400,\n",
    "                      batch=16,\n",
    "                      freeze=5,\n",
    "                      lr0=0.01,\n",
    "                      lrf=0.005, ##################3\n",
    "                      verbose=True,\n",
    "                      save_period=10,\n",
    "                      save=True,\n",
    "                      #pretrained='./runs/detect/yolo11n_models3/weights/best.pt',\n",
    "                      name='yolo11n_runs',\n",
    "                      plots=True,\n",
    "                      device=0,\n",
    "                      cache=False\n",
    "                      )"
   ]
  },
  {
   "cell_type": "code",
   "execution_count": null,
   "metadata": {},
   "outputs": [],
   "source": [
    "#yolov11n run  new data set\n",
    "from ultralytics import YOLO\n",
    "\n",
    "# Load a model\n",
    "model = YOLO(\"../models/yolo11n.pt\")\n",
    "results = model.train(data=\"data.yaml\", \n",
    "                      epochs=400,\n",
    "                      batch=4,\n",
    "                      freeze=10,\n",
    "                      lr0=0.01,\n",
    "                      lrf=0.01, ##################3\n",
    "                      verbose=True,\n",
    "                      save_period=10,\n",
    "                      save=True,\n",
    "                      pretrained='../runs/detect/yolo11n_runs15/weights/best.pt',\n",
    "                      name='yolo11n_runs',\n",
    "                      plots=True,\n",
    "                      device=0,\n",
    "                      cache=False\n",
    "                      )"
   ]
  },
  {
   "cell_type": "code",
   "execution_count": null,
   "metadata": {},
   "outputs": [],
   "source": []
  },
  {
   "cell_type": "code",
   "execution_count": null,
   "metadata": {},
   "outputs": [],
   "source": []
  },
  {
   "cell_type": "code",
   "execution_count": null,
   "metadata": {},
   "outputs": [],
   "source": []
  },
  {
   "cell_type": "code",
   "execution_count": null,
   "metadata": {},
   "outputs": [],
   "source": [
    "# Train the model\n",
    "results = model.train(data=\"data.yaml\", \n",
    "                      epochs=100,\n",
    "                      batch=32,\n",
    "                      freeze=5,\n",
    "                      verbose=True,\n",
    "                      save_period=10,\n",
    "                      save=True,\n",
    "                      #pretrained='./runs/detect/yolo11n_models3/weights/best.pt',\n",
    "                      name='yolo11n_runs',\n",
    "                      plots=True,\n",
    "                      device=0,\n",
    "                      lr0=0.01,\n",
    "                      lrf=0.005,\n",
    "                      cache=False,\n",
    "                      )"
   ]
  },
  {
   "cell_type": "code",
   "execution_count": null,
   "metadata": {},
   "outputs": [],
   "source": [
    "%load_ext tensorboard\n",
    "%load_ext --logdir ../runs/detect/yolo11n_runs7  #set the directory where is save the train"
   ]
  }
 ],
 "metadata": {
  "kernelspec": {
   "display_name": ".env",
   "language": "python",
   "name": "python3"
  },
  "language_info": {
   "codemirror_mode": {
    "name": "ipython",
    "version": 3
   },
   "file_extension": ".py",
   "mimetype": "text/x-python",
   "name": "python",
   "nbconvert_exporter": "python",
   "pygments_lexer": "ipython3",
   "version": "3.10.12"
  }
 },
 "nbformat": 4,
 "nbformat_minor": 2
}
