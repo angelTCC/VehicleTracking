{
 "cells": [
  {
   "cell_type": "code",
   "execution_count": null,
   "metadata": {},
   "outputs": [],
   "source": []
  },
  {
   "cell_type": "code",
   "execution_count": null,
   "metadata": {},
   "outputs": [],
   "source": []
  },
  {
   "cell_type": "code",
   "execution_count": null,
   "metadata": {},
   "outputs": [],
   "source": []
  },
  {
   "cell_type": "code",
   "execution_count": null,
   "metadata": {},
   "outputs": [],
   "source": []
  },
  {
   "cell_type": "code",
   "execution_count": null,
   "metadata": {},
   "outputs": [],
   "source": []
  },
  {
   "cell_type": "code",
   "execution_count": null,
   "metadata": {},
   "outputs": [],
   "source": []
  },
  {
   "cell_type": "code",
   "execution_count": null,
   "metadata": {},
   "outputs": [],
   "source": [
    "model = YOLO(\"yolo11n.pt\")\n",
    "image = cv.imread('../data/demo.jpg')\n",
    "results = model(image, classes=[1])\n",
    "for x,y,w,h in results[0].boxes.xywh:\n",
    "    x, y, w, h = int(x.item()), int(y.item()), int(w.item()), int(h.item())\n",
    "    dummy = cv.rectangle(image, (int(x-w/2), int(y-h/2)), (int(x + w/2), int(y + h/2)), (255, 0, 0), 2) \n",
    "plt.imshow(dummy)"
   ]
  },
  {
   "cell_type": "code",
   "execution_count": null,
   "metadata": {},
   "outputs": [],
   "source": [
    "my_dict = model.names\n",
    "\n",
    "values_to_find = ['banana', 'orange']\n",
    "\n",
    "# Create a dictionary to store the result\n",
    "keys_for_values = {value: [] for value in values_to_find}\n",
    "\n",
    "# Loop through the dictionary and find keys for each value\n",
    "for key, value in my_dict.items():\n",
    "    if value in values_to_find:\n",
    "        keys_for_values[value] = key\n",
    "\n",
    "print(keys_for_values)"
   ]
  },
  {
   "cell_type": "code",
   "execution_count": null,
   "metadata": {},
   "outputs": [],
   "source": [
    "for x,y,w,h in results[0].boxes.xywh:\n",
    "    x, y, w, h = int(x.item()), int(y.item()), int(w.item()), int(h.item())\n",
    "    print(x, y, w, h)"
   ]
  },
  {
   "cell_type": "code",
   "execution_count": null,
   "metadata": {},
   "outputs": [],
   "source": [
    "result = model(image,classes=[1], show_boxes=True)"
   ]
  },
  {
   "cell_type": "code",
   "execution_count": null,
   "metadata": {},
   "outputs": [],
   "source": [
    "plt.imshow(results[0].orig_img)"
   ]
  }
 ],
 "metadata": {
  "kernelspec": {
   "display_name": ".env",
   "language": "python",
   "name": "python3"
  },
  "language_info": {
   "name": "python",
   "version": "3.10.12"
  }
 },
 "nbformat": 4,
 "nbformat_minor": 2
}
